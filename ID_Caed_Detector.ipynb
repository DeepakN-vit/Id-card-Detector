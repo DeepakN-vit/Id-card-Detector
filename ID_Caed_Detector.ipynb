{
 "cells": [
  {
   "cell_type": "code",
   "execution_count": 1,
   "metadata": {},
   "outputs": [],
   "source": [
    "import os\n",
    "import numpy as np\n",
    "\n",
    "from sklearn.model_selection import train_test_split\n",
    "from sklearn.preprocessing import label_binarize\n",
    "\n",
    "from tensorflow import keras\n",
    "from keras.models import Model\n",
    "from keras.layers import Dense, GlobalAveragePooling2D, Dropout\n",
    "from keras.optimizers import Adam\n",
    "from keras.applications import ResNet50\n",
    "from keras.preprocessing.image import img_to_array, load_img\n",
    "from keras.applications.resnet50 import preprocess_input"
   ]
  },
  {
   "cell_type": "code",
   "execution_count": 2,
   "metadata": {},
   "outputs": [],
   "source": [
    "directory = r'C:\\Users\\Deepak\\Downloads\\id_card detector\\ID_Card data set'\n",
    "categories = ['without ID cards', 'with ID cards']\n",
    "\n",
    "data=[]\n",
    "labels=[]"
   ]
  },
  {
   "cell_type": "code",
   "execution_count": 3,
   "metadata": {},
   "outputs": [],
   "source": [
    "for category in categories:\n",
    "  path = os.path.join(directory, category)\n",
    "  for img in os.listdir(path):\n",
    "    img_path = os.path.join(path, img)\n",
    "    image = load_img(img_path,target_size=(224,224))\n",
    "    image = img_to_array(image)\n",
    "    image = preprocess_input(image)\n",
    "    data.append(image)\n",
    "    labels.append(category)"
   ]
  },
  {
   "cell_type": "code",
   "execution_count": 4,
   "metadata": {},
   "outputs": [],
   "source": [
    "labels = label_binarize(labels,classes=categories)"
   ]
  },
  {
   "cell_type": "code",
   "execution_count": 5,
   "metadata": {},
   "outputs": [],
   "source": [
    "X_train, X_test, y_train, y_test = train_test_split(np.array(data), labels, test_size=0.2, random_state=42)"
   ]
  },
  {
   "cell_type": "code",
   "execution_count": 6,
   "metadata": {},
   "outputs": [],
   "source": [
    "idg=keras.preprocessing.image.ImageDataGenerator(\n",
    "    rotation_range=40,\n",
    "    zoom_range=0.2,\n",
    "    width_shift_range=0.2,\n",
    "    height_shift_range=0.2,\n",
    "    shear_range=0.2,\n",
    "    fill_mode='nearest',\n",
    "    horizontal_flip=True\n",
    ")"
   ]
  },
  {
   "cell_type": "code",
   "execution_count": 7,
   "metadata": {},
   "outputs": [],
   "source": [
    "base_model = ResNet50(weights='imagenet', include_top=False, input_shape=(224, 224, 3))\n",
    "\n",
    "m = base_model.output\n",
    "m = GlobalAveragePooling2D()(m)\n",
    "m = Dense(512, activation='relu')(m)\n",
    "m = Dropout(0.5)(m)\n",
    "predictions = Dense(1, activation='sigmoid')(m)\n",
    "\n",
    "model = Model(inputs=base_model.input, outputs=predictions)\n",
    "for layer in base_model.layers:\n",
    "    layer.trainable = False"
   ]
  },
  {
   "cell_type": "code",
   "execution_count": 8,
   "metadata": {},
   "outputs": [],
   "source": [
    "model.compile(optimizer=Adam(learning_rate=0.001),\n",
    "              loss='binary_crossentropy',\n",
    "              metrics=['accuracy'])"
   ]
  },
  {
   "cell_type": "code",
   "execution_count": 9,
   "metadata": {},
   "outputs": [
    {
     "name": "stdout",
     "output_type": "stream",
     "text": [
      "Epoch 1/20\n",
      "6/6 [==============================] - 34s 4s/step - loss: 1.5732 - accuracy: 0.7030 - val_loss: 0.3516 - val_accuracy: 0.8800\n",
      "Epoch 2/20\n",
      "6/6 [==============================] - 23s 4s/step - loss: 0.3312 - accuracy: 0.8606 - val_loss: 0.4947 - val_accuracy: 0.8400\n",
      "Epoch 3/20\n",
      "6/6 [==============================] - 24s 4s/step - loss: 0.2054 - accuracy: 0.9333 - val_loss: 0.4146 - val_accuracy: 0.8800\n",
      "Epoch 4/20\n",
      "6/6 [==============================] - 23s 4s/step - loss: 0.1155 - accuracy: 0.9576 - val_loss: 0.2237 - val_accuracy: 0.9600\n",
      "Epoch 5/20\n",
      "6/6 [==============================] - 22s 4s/step - loss: 0.1257 - accuracy: 0.9636 - val_loss: 0.4126 - val_accuracy: 0.8800\n",
      "Epoch 6/20\n",
      "6/6 [==============================] - 21s 4s/step - loss: 0.1054 - accuracy: 0.9758 - val_loss: 0.2105 - val_accuracy: 0.9600\n",
      "Epoch 7/20\n",
      "6/6 [==============================] - 21s 4s/step - loss: 0.1791 - accuracy: 0.9515 - val_loss: 0.2149 - val_accuracy: 0.9600\n",
      "Epoch 8/20\n",
      "6/6 [==============================] - 22s 4s/step - loss: 0.0323 - accuracy: 0.9879 - val_loss: 0.3683 - val_accuracy: 0.8800\n",
      "Epoch 9/20\n",
      "6/6 [==============================] - 22s 4s/step - loss: 0.0576 - accuracy: 0.9818 - val_loss: 0.2139 - val_accuracy: 0.9400\n",
      "Epoch 10/20\n",
      "6/6 [==============================] - 22s 4s/step - loss: 0.0478 - accuracy: 0.9939 - val_loss: 0.2976 - val_accuracy: 0.8800\n",
      "Epoch 11/20\n",
      "6/6 [==============================] - 15s 2s/step - loss: 0.0590 - accuracy: 0.9818 - val_loss: 0.0882 - val_accuracy: 0.9600\n",
      "Epoch 12/20\n",
      "6/6 [==============================] - 14s 2s/step - loss: 0.0491 - accuracy: 0.9818 - val_loss: 0.0986 - val_accuracy: 0.9600\n",
      "Epoch 13/20\n",
      "6/6 [==============================] - 15s 3s/step - loss: 0.0221 - accuracy: 1.0000 - val_loss: 0.1906 - val_accuracy: 0.9400\n",
      "Epoch 14/20\n",
      "6/6 [==============================] - 15s 2s/step - loss: 0.0408 - accuracy: 0.9879 - val_loss: 0.1339 - val_accuracy: 0.9600\n",
      "Epoch 15/20\n",
      "6/6 [==============================] - 14s 2s/step - loss: 0.0743 - accuracy: 0.9758 - val_loss: 0.1674 - val_accuracy: 0.9400\n",
      "Epoch 16/20\n",
      "6/6 [==============================] - 15s 2s/step - loss: 0.0603 - accuracy: 0.9879 - val_loss: 0.1281 - val_accuracy: 0.9600\n",
      "Epoch 17/20\n",
      "6/6 [==============================] - 14s 2s/step - loss: 0.0517 - accuracy: 0.9939 - val_loss: 0.1865 - val_accuracy: 0.9200\n",
      "Epoch 18/20\n",
      "6/6 [==============================] - 14s 3s/step - loss: 0.0350 - accuracy: 0.9818 - val_loss: 0.1196 - val_accuracy: 0.9600\n",
      "Epoch 19/20\n",
      "6/6 [==============================] - 15s 3s/step - loss: 0.0271 - accuracy: 0.9948 - val_loss: 0.2022 - val_accuracy: 0.9200\n",
      "Epoch 20/20\n",
      "6/6 [==============================] - 13s 2s/step - loss: 0.0292 - accuracy: 0.9879 - val_loss: 0.0824 - val_accuracy: 0.9600\n"
     ]
    },
    {
     "data": {
      "text/plain": [
       "<keras.src.callbacks.History at 0x1cb613e4810>"
      ]
     },
     "execution_count": 9,
     "metadata": {},
     "output_type": "execute_result"
    }
   ],
   "source": [
    "bs=32\n",
    "model.fit(\n",
    "        idg.flow(X_train,y_train,bs),\n",
    "        steps_per_epoch=len(X_train)//bs,\n",
    "        epochs=20,\n",
    "        validation_data=(X_test,y_test),\n",
    "        validation_steps=len(X_test)//bs)"
   ]
  },
  {
   "cell_type": "code",
   "execution_count": 10,
   "metadata": {},
   "outputs": [
    {
     "name": "stdout",
     "output_type": "stream",
     "text": [
      "2/2 [==============================] - 3s 690ms/step - loss: 0.0824 - accuracy: 0.9600\n",
      "Accuracy on test set: 0.9599999785423279\n"
     ]
    }
   ],
   "source": [
    "loss, accuracy = model.evaluate(X_test, y_test)\n",
    "print(f'Accuracy on test set: {accuracy}')"
   ]
  },
  {
   "cell_type": "code",
   "execution_count": 11,
   "metadata": {},
   "outputs": [
    {
     "name": "stderr",
     "output_type": "stream",
     "text": [
      "c:\\Users\\Deepak\\AppData\\Local\\Programs\\Python\\Python311\\Lib\\site-packages\\keras\\src\\engine\\training.py:3000: UserWarning: You are saving your model as an HDF5 file via `model.save()`. This file format is considered legacy. We recommend using instead the native Keras format, e.g. `model.save('my_model.keras')`.\n",
      "  saving_api.save_model(\n"
     ]
    }
   ],
   "source": [
    "model.save(\"id_card_detect.model\", save_format=\"h5\")"
   ]
  }
 ],
 "metadata": {
  "kernelspec": {
   "display_name": "Python 3",
   "language": "python",
   "name": "python3"
  },
  "language_info": {
   "codemirror_mode": {
    "name": "ipython",
    "version": 3
   },
   "file_extension": ".py",
   "mimetype": "text/x-python",
   "name": "python",
   "nbconvert_exporter": "python",
   "pygments_lexer": "ipython3",
   "version": "3.11.0"
  }
 },
 "nbformat": 4,
 "nbformat_minor": 2
}
